{
 "cells": [
  {
   "cell_type": "code",
   "execution_count": 1,
   "id": "fe1adf8f-6f69-40fc-8d24-cf64b7fd50be",
   "metadata": {},
   "outputs": [],
   "source": [
    "# У меня был опыт в решении подобной задачей, и я применил бы на эту тот же способ, а именно, градиентный бустинг\n",
    "# Суть метода заключается в том, что бы посмотреть на исторические данные и обучить модель предиктить следующие данные по LTV "
   ]
  },
  {
   "cell_type": "code",
   "execution_count": null,
   "id": "dd74a7a5-1303-41bb-91f2-7ed28907bee2",
   "metadata": {},
   "outputs": [],
   "source": [
    "import pandas as pd\n",
    "\n",
    "# Допустим, df у нас уже есть из базы\n",
    "# df: колонки — User_ID, Reg_Date, Date, Revenue, Country, Platform, Referral\n",
    "df['User_Age_Day'] = (df['Date'] - df['Reg_Date']).dt.days\n",
    "df = df[df['User_Age_Day'] <= 60]\n",
    "\n",
    "# когортный LTV: группируем по дню жизни, когорте\n",
    "ltv_df = df.groupby(['Reg_Date', 'User_Age_Day']).agg({'Revenue': 'mean'}).groupby(level=0).cumsum().reset_index()\n",
    "\n",
    "# добавим дополнительные фичи к когортам (например, средняя платформа, страна и т.д.)\n",
    "meta = df.groupby('Reg_Date').agg({\n",
    "    'Platform': lambda x: x.mode()[0],\n",
    "    'Country': lambda x: x.mode()[0],\n",
    "    'Referral': lambda x: x.mode()[0]\n",
    "}).reset_index()\n",
    "\n",
    "ltv_df = ltv_df.merge(meta, on='Reg_Date')"
   ]
  },
  {
   "cell_type": "code",
   "execution_count": null,
   "id": "75142286-7f88-418e-b150-018481c7fcd6",
   "metadata": {},
   "outputs": [],
   "source": [
    "from sklearn.ensemble import GradientBoostingRegressor\n",
    "from sklearn.model_selection import train_test_split\n",
    "\n",
    "# Feature Engineering\n",
    "X = ltv_df[['User_Age_Day', 'Platform', 'Country', 'Referral']]\n",
    "X = pd.get_dummies(X) \n",
    "y = ltv_df['Revenue']\n",
    "\n",
    "X_train, X_test, y_train, y_test = train_test_split(X, y, test_size=0.2)\n",
    "model = GradientBoostingRegressor()\n",
    "model.fit(X_train, y_train)\n",
    "\n",
    "# Прогнозируем для новых когорт\n",
    "future_days = pd.DataFrame({\n",
    "    'User_Age_Day': list(range(1, 61)),\n",
    "    'Platform': 'Android',\n",
    "    'Country': 'US',\n",
    "    'Referral': 'link001'\n",
    "})\n",
    "future_days = pd.get_dummies(future_days)\n",
    "ltv_forecast = model.predict(future_days)"
   ]
  },
  {
   "cell_type": "code",
   "execution_count": null,
   "id": "494ab925-f104-4de6-a6b3-f644590cfc43",
   "metadata": {},
   "outputs": [],
   "source": [
    "import matplotlib.pyplot as plt\n",
    "\n",
    "plt.plot(range(1, 61), ltv_forecast, label=\"ML forecast\")\n",
    "plt.xlabel('Day')\n",
    "plt.ylabel('Cumulative LTV')\n",
    "plt.legend()\n",
    "plt.title('Прогноз LTV по дням')\n",
    "plt.grid(True)"
   ]
  }
 ],
 "metadata": {
  "kernelspec": {
   "display_name": "Python 3 (ipykernel)",
   "language": "python",
   "name": "python3"
  },
  "language_info": {
   "codemirror_mode": {
    "name": "ipython",
    "version": 3
   },
   "file_extension": ".py",
   "mimetype": "text/x-python",
   "name": "python",
   "nbconvert_exporter": "python",
   "pygments_lexer": "ipython3",
   "version": "3.10.0"
  }
 },
 "nbformat": 4,
 "nbformat_minor": 5
}
