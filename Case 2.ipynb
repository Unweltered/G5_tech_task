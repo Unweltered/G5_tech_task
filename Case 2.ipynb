{
 "cells": [
  {
   "cell_type": "code",
   "execution_count": 1,
   "id": "3dc7fbd1-8bda-4023-8166-684f2e8020cc",
   "metadata": {},
   "outputs": [],
   "source": [
    "# Case 2\n",
    "# Метрики на основе данных\n",
    "# Monetization:\n",
    "#     Revenue (выручка)\n",
    "#     ARPU (Средний чек  на пользователя)\n",
    "#     ARPPU (Средний чек на платящего пользователя)\n",
    "# Behavior:\n",
    "#     Average cnt of session (Среднее кол-во сессий на пользвоателя)\n",
    "#     In-game time spent (Среднее время проведенное в игре по пользователю)\n",
    "# Conversion"
   ]
  },
  {
   "cell_type": "code",
   "execution_count": null,
   "id": "82dd9b1e-9cc3-4c5a-a14a-27b1cf714b13",
   "metadata": {},
   "outputs": [],
   "source": [
    "import pandas as pd\n",
    "import numpy as np\n",
    "import matplotlib.pyplot as plt\n",
    "import seaborn as sns\n",
    "import plotly.express as px"
   ]
  },
  {
   "cell_type": "code",
   "execution_count": null,
   "id": "303cf808-d3f6-4f70-b0b1-0ea0dd395e9f",
   "metadata": {},
   "outputs": [],
   "source": [
    "import from_db_library as export\n",
    "df = export.export_data_from_db('table','schema','user','pwd','host','port')"
   ]
  },
  {
   "cell_type": "code",
   "execution_count": null,
   "id": "20f28212-fd1b-4f6f-82b8-d2b0cd10c67d",
   "metadata": {},
   "outputs": [],
   "source": [
    "# Добавим период: до/во время/после акции\n",
    "df['Period'] = pd.cut(\n",
    "    df['Date'],\n",
    "    bins=[pd.Timestamp('2025-05-01'), pd.Timestamp('2025-05-10'),\n",
    "          pd.Timestamp('2025-05-13'), pd.Timestamp('2025-05-21')],\n",
    "    labels=['Before', 'During', 'After']\n",
    ")\n",
    "\n",
    "# Базовые агрегаты\n",
    "daily_metrics = df.groupby(['Date', 'Period']).agg({\n",
    "    'User_ID': 'nunique',\n",
    "    'Revenue': 'sum',\n",
    "    'Payments': 'sum',\n",
    "    'Sessions': 'sum',\n",
    "    'Playing_Time': 'sum'\n",
    "}).reset_index().rename(columns={'User_ID': 'Unique_Users'})\n",
    "\n",
    "# Добавим базовые метрики\n",
    "daily_metrics['ARPU'] = daily_metrics['Revenue'] / daily_metrics['Unique_Users']\n",
    "daily_metrics['Avg_Sessions'] = daily_metrics['Sessions'] / daily_metrics['Unique_Users']\n",
    "daily_metrics['Avg_Playing_Time'] = daily_metrics['Playing_Time'] / daily_metrics['Unique_Users']"
   ]
  },
  {
   "cell_type": "code",
   "execution_count": null,
   "id": "4e81639b-3fa7-4e51-a17d-637360bca8cc",
   "metadata": {},
   "outputs": [],
   "source": [
    "# Агрегация по периодам\n",
    "period_summary = df.groupby('Period').agg({\n",
    "    'User_ID': pd.Series.nunique,\n",
    "    'Revenue': 'sum',\n",
    "    'Payments': 'sum'\n",
    "}).rename(columns={'User_ID': 'Unique_Users'})\n",
    "\n",
    "period_summary['ARPU'] = period_summary['Revenue'] / period_summary['Unique_Users']\n",
    "period_summary['ARPPU'] = period_summary['Revenue'] / df[df['Revenue'] > 0].groupby('Period')['User_ID'].nunique()\n",
    "period_summary['Conversion_Rate'] = df[df['Revenue'] > 0].groupby('Period')['User_ID'].nunique() / period_summary['Unique_Users']\n"
   ]
  },
  {
   "cell_type": "code",
   "execution_count": null,
   "id": "745b2ead-a724-4a04-8881-9b165f4c49e5",
   "metadata": {},
   "outputs": [],
   "source": [
    "# Сегментация\n",
    "# Возраст аккаунта на момент даты\n",
    "df['User_Age_Days'] = (df['Date'] - df['Reg_Date']).dt.days\n",
    "\n",
    "# Когорты по возрасту\n",
    "df['Cohort'] = pd.cut(df['User_Age_Days'], bins=[-1, 7, 30, 90, 10000], labels=['0-7d', '8-30d', '31-90d', '90+d'])\n",
    "\n",
    "# Группировка\n",
    "cohort_platform = df.groupby(['Period', 'Platform', 'Cohort']).agg({\n",
    "    'User_ID': 'nunique',\n",
    "    'Revenue': 'sum'\n",
    "}).reset_index()"
   ]
  },
  {
   "cell_type": "code",
   "execution_count": 4,
   "id": "8f66a62d-f373-4dcb-a079-ec46b0f8ceaf",
   "metadata": {},
   "outputs": [],
   "source": [
    "# Визуализация"
   ]
  },
  {
   "cell_type": "code",
   "execution_count": null,
   "id": "4944d02e-fed2-46cc-94ec-394c43fb9d5e",
   "metadata": {},
   "outputs": [],
   "source": [
    "# Выручка по дням\n",
    "plt.figure(figsize=(12,6))\n",
    "sns.lineplot(data=daily_metrics, x='Date', y='Revenue', hue='Period')\n",
    "plt.title('Динамика выручки по дням')\n",
    "plt.xlabel('Дата')\n",
    "plt.ylabel('Выручка')\n",
    "plt.grid(True)\n",
    "plt.tight_layout()"
   ]
  },
  {
   "cell_type": "code",
   "execution_count": null,
   "id": "54692c2e-00f5-4f67-99f0-8eddd40d825d",
   "metadata": {},
   "outputs": [],
   "source": [
    "# ARPU\\ARPPU по периодам\n",
    "sns.barplot(data=period_summary.reset_index(), x='Period', y='ARPU')\n",
    "plt.title('ARPU по периодам')"
   ]
  },
  {
   "cell_type": "code",
   "execution_count": null,
   "id": "3450af3e-0c5d-495d-837b-f388fd5edc10",
   "metadata": {},
   "outputs": [],
   "source": [
    "# Тепловая карта конверсии по платформам и когортам\n",
    "pivot = cohort_platform.pivot_table(index='Cohort', columns='Platform', values='Revenue', aggfunc='sum')\n",
    "sns.heatmap(pivot, annot=True, fmt=\".0f\", cmap='YlGnBu')\n",
    "plt.title('Суммарная выручка по когортам и платформам')"
   ]
  },
  {
   "cell_type": "code",
   "execution_count": null,
   "id": "49aa065b-5675-4ce2-b665-18b5eaccc7ac",
   "metadata": {},
   "outputs": [],
   "source": []
  },
  {
   "cell_type": "code",
   "execution_count": null,
   "id": "067aaaa8-67a3-4fab-974c-0c1cd514ab73",
   "metadata": {},
   "outputs": [],
   "source": []
  },
  {
   "cell_type": "code",
   "execution_count": null,
   "id": "43031d92-e2de-4b66-b145-664f0893a3f4",
   "metadata": {},
   "outputs": [],
   "source": []
  }
 ],
 "metadata": {
  "kernelspec": {
   "display_name": "Python 3 (ipykernel)",
   "language": "python",
   "name": "python3"
  },
  "language_info": {
   "codemirror_mode": {
    "name": "ipython",
    "version": 3
   },
   "file_extension": ".py",
   "mimetype": "text/x-python",
   "name": "python",
   "nbconvert_exporter": "python",
   "pygments_lexer": "ipython3",
   "version": "3.10.0"
  }
 },
 "nbformat": 4,
 "nbformat_minor": 5
}
